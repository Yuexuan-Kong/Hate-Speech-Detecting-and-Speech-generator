{
 "cells": [
  {
   "cell_type": "code",
   "execution_count": 27,
   "metadata": {},
   "outputs": [],
   "source": [
    "import matplotlib.pyplot as plt\n",
    "import numpy as np\n",
    "import pandas as pd\n",
    "import tensorflow as tf\n",
    "from tensorflow.keras.preprocessing.text import Tokenizer\n",
    "from tensorflow.keras.preprocessing.sequence import pad_sequences\n",
    "from tensorflow.keras.layers import Embedding, LSTM, Dense, Dropout\n",
    "from tensorflow.keras.models import Sequential\n",
    "import tensorflow.keras.utils as ku\n",
    "import pickle"
   ]
  },
  {
   "cell_type": "code",
   "execution_count": 3,
   "metadata": {},
   "outputs": [],
   "source": [
    "# open preprocessed texts\n",
    "all_train = pd.read_csv(\"train_preprocess.csv\")\n",
    "\n",
    "# extract non-hateful comments\n",
    "train = all_train.loc[all_train[\"hate_speech\"] == 0][[\"preprocess\"]]\n",
    "train[[\"preprocess\"]] = train[[\"preprocess\"]].astype(str)\n",
    "\n",
    "# prepare data for modeling\n",
    "\n",
    "max_words = 30000\n",
    "max_text_length = 300 # 300 is chosen based on the distribution of texts' length\n",
    "\n",
    "# prepare tokenizer\n",
    "tokenizer = Tokenizer(max_words)\n",
    "tokenizer.fit_on_texts(train[\"preprocess\"])\n",
    "\n",
    "# convert text into arrays\n",
    "train1 = tokenizer.texts_to_sequences(train[\"preprocess\"])\n",
    "\n",
    "# pad the sentences\n",
    "train_final = pad_sequences(train1, max_text_length)"
   ]
  },
  {
   "cell_type": "code",
   "execution_count": 22,
   "metadata": {},
   "outputs": [],
   "source": [
    "# define predictors and labels, we extract the last words of each comment as label\n",
    "predictors, labels = train_final[:,:-1],train_final[:,-1]\n",
    "# pad labels cause it's actually a classification problem\n",
    "labels = ku.to_categorical(labels, num_classes = max_words)"
   ]
  },
  {
   "cell_type": "code",
   "execution_count": 23,
   "metadata": {},
   "outputs": [],
   "source": [
    "# build embedding matrix\n",
    "# open glove embedding\n",
    "embedding_dim =100\n",
    "embeddings_index = dict()\n",
    "f = open('glove.6B.100d.txt')\n",
    "for line in f:\n",
    "    values = line.split()\n",
    "    word = values[0]\n",
    "    coefs = np.asarray(values[1:],dtype='float32')\n",
    "    embeddings_index[word]= coefs\n",
    "f.close()\n",
    "\n",
    "# create embedding matrix\n",
    "embedding_matrix = np.zeros((max_words,embedding_dim))\n",
    "for word, index in tokenizer.word_index.items():\n",
    "    if index > max_words-1:\n",
    "        break\n",
    "    else:\n",
    "        embedding_vector = embeddings_index.get(word)\n",
    "        if embedding_vector is not None:\n",
    "            embedding_matrix[index]= embedding_vector"
   ]
  },
  {
   "cell_type": "code",
   "execution_count": 24,
   "metadata": {},
   "outputs": [
    {
     "name": "stdout",
     "output_type": "stream",
     "text": [
      "Model: \"sequential_1\"\n",
      "_________________________________________________________________\n",
      "Layer (type)                 Output Shape              Param #   \n",
      "=================================================================\n",
      "embedding_1 (Embedding)      (None, None, 100)         3000000   \n",
      "_________________________________________________________________\n",
      "lstm_2 (LSTM)                (None, None, 100)         80400     \n",
      "_________________________________________________________________\n",
      "lstm_3 (LSTM)                (None, 100)               80400     \n",
      "_________________________________________________________________\n",
      "dense_1 (Dense)              (None, 30000)             3030000   \n",
      "=================================================================\n",
      "Total params: 6,190,800\n",
      "Trainable params: 3,190,800\n",
      "Non-trainable params: 3,000,000\n",
      "_________________________________________________________________\n"
     ]
    }
   ],
   "source": [
    "# build LSTM model\n",
    "model = Sequential()\n",
    "model.add(Embedding(max_words,\n",
    "                    embedding_dim,\n",
    "                    embeddings_initializer = tf.keras.initializers.Constant(embedding_matrix),\n",
    "                    trainable = False\n",
    "                   ))\n",
    "model.add(LSTM(units = embedding_dim, \n",
    "               dropout = 0.2, \n",
    "               recurrent_dropout = 0.2, \n",
    "               return_sequences=True\n",
    "              ))\n",
    "model.add(LSTM(units = embedding_dim, \n",
    "               dropout = 0.2, \n",
    "               recurrent_dropout = 0.2\n",
    "              ))\n",
    "\n",
    "model.add(Dense(max_words, activation='softmax'))\n",
    "model.summary()"
   ]
  },
  {
   "cell_type": "code",
   "execution_count": 25,
   "metadata": {},
   "outputs": [
    {
     "name": "stdout",
     "output_type": "stream",
     "text": [
      "Epoch 1/5\n",
      "4480/4480 [==============================] - 7073s 2s/step - loss: 8.0385 - accuracy: 0.0623\n",
      "Epoch 2/5\n",
      "4480/4480 [==============================] - 5115s 1s/step - loss: 7.2515 - accuracy: 0.0841\n",
      "Epoch 3/5\n",
      "4480/4480 [==============================] - 5147s 1s/step - loss: 6.9152 - accuracy: 0.0976\n",
      "Epoch 4/5\n",
      "4480/4480 [==============================] - 5165s 1s/step - loss: 6.6607 - accuracy: 0.1056\n",
      "Epoch 5/5\n",
      "4480/4480 [==============================] - 5134s 1s/step - loss: 6.4181 - accuracy: 0.1122\n"
     ]
    }
   ],
   "source": [
    "# compile model with data\n",
    "model.compile(loss='categorical_crossentropy', optimizer='adam', metrics = [\"accuracy\"])\n",
    "result = model.fit(predictors, labels, \n",
    "                   batch_size = 32, \n",
    "                   epochs = 5, \n",
    "                  )"
   ]
  },
  {
   "cell_type": "code",
   "execution_count": 28,
   "metadata": {},
   "outputs": [
    {
     "data": {
      "text/plain": [
       "<Figure size 432x288 with 0 Axes>"
      ]
     },
     "execution_count": 28,
     "metadata": {},
     "output_type": "execute_result"
    },
    {
     "data": {
      "image/png": "[encoded data removed]",
      "text/plain": [
       "<Figure size 432x288 with 1 Axes>"
      ]
     },
     "metadata": {
      "needs_background": "light"
     },
     "output_type": "display_data"
    },
    {
     "data": {
      "image/png": "[encoded data removed]",
      "text/plain": [
       "<Figure size 432x288 with 1 Axes>"
      ]
     },
     "metadata": {
      "needs_background": "light"
     },
     "output_type": "display_data"
    },
    {
     "data": {
      "text/plain": [
       "<Figure size 432x288 with 0 Axes>"
      ]
     },
     "metadata": {},
     "output_type": "display_data"
    }
   ],
   "source": [
    "plt.plot(result.history['loss'], label = 'train')\n",
    "plt.xlabel('Epochs')\n",
    "plt.ylabel('Loss')\n",
    "plt.title('Training loss vs. Epochs')\n",
    "plt.legend()\n",
    "plt.figure()\n",
    "plt.plot(result.history['accuracy'], label = 'train')\n",
    "plt.xlabel('Epochs')\n",
    "plt.ylabel('Accuracy')\n",
    "plt.title('Training accuracy vs. Epochs')\n",
    "plt.legend()\n",
    "plt.figure()"
   ]
  },
  {
   "cell_type": "code",
   "execution_count": null,
   "metadata": {},
   "outputs": [],
   "source": [
    "model.save('SpeechGenerator.h5')"
   ]
  }
 ],
 "metadata": {
  "kernelspec": {
   "display_name": "Python 3",
   "language": "python",
   "name": "python3"
  },
  "language_info": {
   "codemirror_mode": {
    "name": "ipython",
    "version": 3
   },
   "file_extension": ".py",
   "mimetype": "text/x-python",
   "name": "python",
   "nbconvert_exporter": "python",
   "pygments_lexer": "ipython3",
   "version": "3.7.3"
  }
 },
 "nbformat": 4,
 "nbformat_minor": 2
}
