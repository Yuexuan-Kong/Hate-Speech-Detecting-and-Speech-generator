{
 "cells": [
  {
   "cell_type": "code",
   "execution_count": 1,
   "metadata": {},
   "outputs": [],
   "source": [
    "import matplotlib.pyplot as plt\n",
    "import numpy as np\n",
    "import pandas as pd\n",
    "import tensorflow as tf\n",
    "from tensorflow.keras.preprocessing.text import Tokenizer\n",
    "from tensorflow.keras.preprocessing.sequence import pad_sequences\n",
    "from tensorflow.keras.layers import Embedding, LSTM, Dense, Dropout\n",
    "from tensorflow.keras.models import Sequential\n",
    "import tensorflow.keras.utils as ku\n",
    "import pickle"
   ]
  },
  {
   "cell_type": "code",
   "execution_count": 31,
   "metadata": {},
   "outputs": [],
   "source": [
    "# open preprocessed texts\n",
    "all_train = pd.read_csv(\"train_preprocess.csv\")\n",
    "\n",
    "# extract non-hateful comments\n",
    "train = all_train.loc[all_train[\"hate_speech\"] == 0][[\"preprocess\"]]\n",
    "train[[\"preprocess\"]] = train[[\"preprocess\"]].astype(str)\n",
    "train = train.sample(50000)\n",
    "\n",
    "# prepare data for modeling\n",
    "\n",
    "max_words = 30000\n",
    "max_text_length = 300 # 300 is chosen based on the distribution of texts' length\n",
    "\n",
    "# prepare tokenizer\n",
    "tokenizer = Tokenizer(max_words)\n",
    "tokenizer.fit_on_texts(train[\"preprocess\"])\n",
    "\n",
    "# convert text into arrays\n",
    "train1 = tokenizer.texts_to_sequences(train[\"preprocess\"])\n",
    "\n",
    "# pad the sentences\n",
    "train_final = pad_sequences(train1, max_text_length)"
   ]
  },
  {
   "cell_type": "code",
   "execution_count": 32,
   "metadata": {},
   "outputs": [
    {
     "data": {
      "text/plain": [
       "50000"
      ]
     },
     "execution_count": 32,
     "metadata": {},
     "output_type": "execute_result"
    }
   ],
   "source": [
    "train.size"
   ]
  },
  {
   "cell_type": "code",
   "execution_count": 33,
   "metadata": {},
   "outputs": [],
   "source": [
    "# define predictors and labels, we extract the last words of each comment as label\n",
    "predictors, labels = train_final[:,:-1],train_final[:,-1]\n",
    "# pad labels cause it's actually a classification problem\n",
    "labels = ku.to_categorical(labels, num_classes = max_words)"
   ]
  },
  {
   "cell_type": "code",
   "execution_count": 34,
   "metadata": {},
   "outputs": [],
   "source": [
    "# build embedding matrix\n",
    "# open glove embedding\n",
    "embedding_dim =100\n",
    "embeddings_index = dict()\n",
    "f = open('glove.6B.100d.txt')\n",
    "for line in f:\n",
    "    values = line.split()\n",
    "    word = values[0]\n",
    "    coefs = np.asarray(values[1:],dtype='float32')\n",
    "    embeddings_index[word]= coefs\n",
    "f.close()\n",
    "\n",
    "# create embedding matrix\n",
    "embedding_matrix = np.zeros((max_words,embedding_dim))\n",
    "for word, index in tokenizer.word_index.items():\n",
    "    if index > max_words-1:\n",
    "        break\n",
    "    else:\n",
    "        embedding_vector = embeddings_index.get(word)\n",
    "        if embedding_vector is not None:\n",
    "            embedding_matrix[index]= embedding_vector"
   ]
  },
  {
   "cell_type": "code",
   "execution_count": 35,
   "metadata": {},
   "outputs": [
    {
     "name": "stdout",
     "output_type": "stream",
     "text": [
      "Model: \"sequential_5\"\n",
      "_________________________________________________________________\n",
      "Layer (type)                 Output Shape              Param #   \n",
      "=================================================================\n",
      "embedding_5 (Embedding)      (None, None, 100)         3000000   \n",
      "_________________________________________________________________\n",
      "lstm_6 (LSTM)                (None, 100)               80400     \n",
      "_________________________________________________________________\n",
      "dense_5 (Dense)              (None, 30000)             3030000   \n",
      "=================================================================\n",
      "Total params: 6,110,400\n",
      "Trainable params: 3,110,400\n",
      "Non-trainable params: 3,000,000\n",
      "_________________________________________________________________\n"
     ]
    }
   ],
   "source": [
    "# build LSTM model\n",
    "model = Sequential()\n",
    "model.add(Embedding(max_words,\n",
    "                    embedding_dim,\n",
    "                    embeddings_initializer = tf.keras.initializers.Constant(embedding_matrix),\n",
    "                    trainable = False\n",
    "                   ))\n",
    "#model.add(LSTM(units = embedding_dim, \n",
    "#               dropout = 0.2, \n",
    "#               recurrent_dropout = 0.2, \n",
    "#               return_sequences=True\n",
    "#              ))\n",
    "model.add(LSTM(units = embedding_dim, \n",
    "               dropout = 0.2, \n",
    "               recurrent_dropout = 0.2\n",
    "              ))\n",
    "\n",
    "model.add(Dense(max_words, activation='softmax'))\n",
    "model.summary()"
   ]
  },
  {
   "cell_type": "code",
   "execution_count": 39,
   "metadata": {},
   "outputs": [
    {
     "name": "stdout",
     "output_type": "stream",
     "text": [
      "Epoch 1/100\n",
      "391/391 [==============================] - 437s 1s/step - loss: 7.9160 - accuracy: 0.0591\n",
      "Epoch 2/100\n",
      "391/391 [==============================] - 419s 1s/step - loss: 7.4148 - accuracy: 0.0635\n",
      "Epoch 3/100\n",
      "391/391 [==============================] - 415s 1s/step - loss: 7.0801 - accuracy: 0.0772\n",
      "Epoch 4/100\n",
      "391/391 [==============================] - 1108s 3s/step - loss: 6.8153 - accuracy: 0.0844\n",
      "Epoch 5/100\n",
      "391/391 [==============================] - 411s 1s/step - loss: 6.5388 - accuracy: 0.0914\n",
      "Epoch 6/100\n",
      "391/391 [==============================] - 416s 1s/step - loss: 6.3141 - accuracy: 0.0972\n",
      "Epoch 7/100\n",
      "391/391 [==============================] - 415s 1s/step - loss: 6.1039 - accuracy: 0.1038\n",
      "Epoch 8/100\n",
      "391/391 [==============================] - 413s 1s/step - loss: 5.9145 - accuracy: 0.1111\n",
      "Epoch 9/100\n",
      "391/391 [==============================] - 412s 1s/step - loss: 5.7381 - accuracy: 0.1145\n",
      "Epoch 10/100\n",
      "391/391 [==============================] - 414s 1s/step - loss: 5.5649 - accuracy: 0.1202\n",
      "Epoch 11/100\n",
      "391/391 [==============================] - 414s 1s/step - loss: 5.3982 - accuracy: 0.1321\n",
      "Epoch 12/100\n",
      "391/391 [==============================] - 545s 1s/step - loss: 5.2486 - accuracy: 0.1405\n",
      "Epoch 13/100\n",
      "391/391 [==============================] - 468s 1s/step - loss: 5.1244 - accuracy: 0.1526\n",
      "Epoch 14/100\n",
      "391/391 [==============================] - 420s 1s/step - loss: 4.9772 - accuracy: 0.1684\n",
      "Epoch 15/100\n",
      "391/391 [==============================] - 442s 1s/step - loss: 4.8414 - accuracy: 0.1903\n",
      "Epoch 16/100\n",
      "391/391 [==============================] - 453s 1s/step - loss: 4.7268 - accuracy: 0.2098\n",
      "Epoch 17/100\n",
      "391/391 [==============================] - 472s 1s/step - loss: 4.6026 - accuracy: 0.2316\n",
      "Epoch 18/100\n",
      "391/391 [==============================] - 525s 1s/step - loss: 4.5023 - accuracy: 0.2443\n",
      "Epoch 19/100\n",
      "391/391 [==============================] - 431s 1s/step - loss: 4.3873 - accuracy: 0.2598\n",
      "Epoch 20/100\n",
      "391/391 [==============================] - 429s 1s/step - loss: 4.3048 - accuracy: 0.2716\n",
      "Epoch 21/100\n",
      "391/391 [==============================] - 563s 1s/step - loss: 4.2333 - accuracy: 0.2765\n",
      "Epoch 22/100\n",
      "391/391 [==============================] - 528s 1s/step - loss: 4.1416 - accuracy: 0.2894\n",
      "Epoch 23/100\n",
      "391/391 [==============================] - 472s 1s/step - loss: 4.0792 - accuracy: 0.2972\n",
      "Epoch 24/100\n",
      "391/391 [==============================] - 417s 1s/step - loss: 4.0251 - accuracy: 0.2993\n",
      "Epoch 25/100\n",
      "391/391 [==============================] - 617s 2s/step - loss: 3.9471 - accuracy: 0.3149\n",
      "Epoch 26/100\n",
      "391/391 [==============================] - 539s 1s/step - loss: 3.9059 - accuracy: 0.3169\n",
      "Epoch 27/100\n",
      "391/391 [==============================] - 573s 1s/step - loss: 3.8598 - accuracy: 0.3230\n",
      "Epoch 28/100\n",
      "391/391 [==============================] - 524s 1s/step - loss: 3.8213 - accuracy: 0.3265\n",
      "Epoch 29/100\n",
      "391/391 [==============================] - 508s 1s/step - loss: 3.7846 - accuracy: 0.3310\n",
      "Epoch 30/100\n",
      "391/391 [==============================] - 457s 1s/step - loss: 3.7242 - accuracy: 0.3398\n",
      "Epoch 31/100\n",
      "391/391 [==============================] - 471s 1s/step - loss: 3.6904 - accuracy: 0.3427\n",
      "Epoch 32/100\n",
      "391/391 [==============================] - 453s 1s/step - loss: 3.6419 - accuracy: 0.3497\n",
      "Epoch 33/100\n",
      "391/391 [==============================] - 457s 1s/step - loss: 3.6120 - accuracy: 0.3537\n",
      "Epoch 34/100\n",
      "391/391 [==============================] - 415s 1s/step - loss: 3.5688 - accuracy: 0.3585\n",
      "Epoch 35/100\n",
      "391/391 [==============================] - 775s 2s/step - loss: 3.5385 - accuracy: 0.3633\n",
      "Epoch 36/100\n",
      "391/391 [==============================] - 433s 1s/step - loss: 3.5107 - accuracy: 0.3629\n",
      "Epoch 37/100\n",
      "391/391 [==============================] - 413s 1s/step - loss: 3.4749 - accuracy: 0.3688\n",
      "Epoch 38/100\n",
      "391/391 [==============================] - 415s 1s/step - loss: 3.4352 - accuracy: 0.3747\n",
      "Epoch 39/100\n",
      "391/391 [==============================] - 417s 1s/step - loss: 3.4120 - accuracy: 0.3767\n",
      "Epoch 40/100\n",
      "391/391 [==============================] - 417s 1s/step - loss: 3.4142 - accuracy: 0.3793\n",
      "Epoch 41/100\n",
      "391/391 [==============================] - 419s 1s/step - loss: 3.3684 - accuracy: 0.3840\n",
      "Epoch 42/100\n",
      "391/391 [==============================] - 416s 1s/step - loss: 3.3611 - accuracy: 0.3873\n",
      "Epoch 43/100\n",
      "391/391 [==============================] - 419s 1s/step - loss: 3.3389 - accuracy: 0.3882\n",
      "Epoch 44/100\n",
      "391/391 [==============================] - 417s 1s/step - loss: 3.3069 - accuracy: 0.3895\n",
      "Epoch 45/100\n",
      "391/391 [==============================] - 416s 1s/step - loss: 3.2814 - accuracy: 0.3948\n",
      "Epoch 46/100\n",
      "391/391 [==============================] - 417s 1s/step - loss: 3.2718 - accuracy: 0.3970\n",
      "Epoch 47/100\n",
      "391/391 [==============================] - 420s 1s/step - loss: 3.2538 - accuracy: 0.3973\n",
      "Epoch 48/100\n",
      "391/391 [==============================] - 418s 1s/step - loss: 3.2307 - accuracy: 0.4014\n",
      "Epoch 49/100\n",
      "391/391 [==============================] - 418s 1s/step - loss: 3.2040 - accuracy: 0.4064\n",
      "Epoch 50/100\n",
      "391/391 [==============================] - 419s 1s/step - loss: 3.1966 - accuracy: 0.4052\n",
      "Epoch 51/100\n",
      "391/391 [==============================] - 421s 1s/step - loss: 3.1487 - accuracy: 0.4114\n",
      "Epoch 52/100\n",
      "391/391 [==============================] - 419s 1s/step - loss: 3.1420 - accuracy: 0.4123\n",
      "Epoch 53/100\n",
      "391/391 [==============================] - 419s 1s/step - loss: 3.1228 - accuracy: 0.4163\n",
      "Epoch 54/100\n",
      "391/391 [==============================] - 419s 1s/step - loss: 3.1264 - accuracy: 0.4152\n",
      "Epoch 55/100\n",
      "391/391 [==============================] - 422s 1s/step - loss: 3.1077 - accuracy: 0.4155\n",
      "Epoch 56/100\n",
      "391/391 [==============================] - 419s 1s/step - loss: 3.1266 - accuracy: 0.4136\n",
      "Epoch 57/100\n",
      "391/391 [==============================] - 419s 1s/step - loss: 3.0683 - accuracy: 0.4245\n",
      "Epoch 58/100\n",
      "391/391 [==============================] - 418s 1s/step - loss: 3.0796 - accuracy: 0.4202\n",
      "Epoch 59/100\n",
      "391/391 [==============================] - 425s 1s/step - loss: 3.0802 - accuracy: 0.4169\n",
      "Epoch 60/100\n",
      "391/391 [==============================] - 421s 1s/step - loss: 3.0647 - accuracy: 0.4178\n",
      "Epoch 61/100\n",
      "391/391 [==============================] - 418s 1s/step - loss: 3.0359 - accuracy: 0.4220\n",
      "Epoch 62/100\n",
      "391/391 [==============================] - 421s 1s/step - loss: 3.0143 - accuracy: 0.4290\n",
      "Epoch 63/100\n",
      "391/391 [==============================] - 419s 1s/step - loss: 3.0175 - accuracy: 0.4258\n",
      "Epoch 64/100\n",
      "391/391 [==============================] - 419s 1s/step - loss: 3.0088 - accuracy: 0.4247\n",
      "Epoch 65/100\n",
      "391/391 [==============================] - 419s 1s/step - loss: 2.9798 - accuracy: 0.4317\n",
      "Epoch 66/100\n",
      "391/391 [==============================] - 419s 1s/step - loss: 2.9714 - accuracy: 0.4289\n",
      "Epoch 67/100\n",
      "391/391 [==============================] - 418s 1s/step - loss: 2.9668 - accuracy: 0.4330\n",
      "Epoch 68/100\n",
      "391/391 [==============================] - 419s 1s/step - loss: 2.9499 - accuracy: 0.4361\n",
      "Epoch 69/100\n",
      "391/391 [==============================] - 420s 1s/step - loss: 2.9427 - accuracy: 0.4338\n",
      "Epoch 70/100\n",
      "391/391 [==============================] - 420s 1s/step - loss: 2.9283 - accuracy: 0.4348\n",
      "Epoch 71/100\n",
      "391/391 [==============================] - 420s 1s/step - loss: 2.9370 - accuracy: 0.4392\n",
      "Epoch 72/100\n",
      "391/391 [==============================] - 419s 1s/step - loss: 2.9254 - accuracy: 0.4358\n",
      "Epoch 73/100\n",
      "391/391 [==============================] - 420s 1s/step - loss: 2.9127 - accuracy: 0.4370\n",
      "Epoch 74/100\n",
      "391/391 [==============================] - 420s 1s/step - loss: 2.9117 - accuracy: 0.4405\n",
      "Epoch 75/100\n",
      "391/391 [==============================] - 420s 1s/step - loss: 2.8931 - accuracy: 0.4424\n",
      "Epoch 76/100\n",
      "391/391 [==============================] - 420s 1s/step - loss: 2.8827 - accuracy: 0.4428\n",
      "Epoch 77/100\n",
      "391/391 [==============================] - 420s 1s/step - loss: 2.8799 - accuracy: 0.4423\n",
      "Epoch 78/100\n",
      "391/391 [==============================] - 420s 1s/step - loss: 2.8580 - accuracy: 0.4470\n",
      "Epoch 79/100\n",
      "391/391 [==============================] - 420s 1s/step - loss: 2.8555 - accuracy: 0.4457\n",
      "Epoch 80/100\n"
     ]
    },
    {
     "name": "stdout",
     "output_type": "stream",
     "text": [
      "391/391 [==============================] - 423s 1s/step - loss: 2.8396 - accuracy: 0.4460\n",
      "Epoch 81/100\n",
      "391/391 [==============================] - 423s 1s/step - loss: 2.8306 - accuracy: 0.4491\n",
      "Epoch 82/100\n",
      "391/391 [==============================] - 417s 1s/step - loss: 2.8492 - accuracy: 0.4453\n",
      "Epoch 83/100\n",
      "391/391 [==============================] - 415s 1s/step - loss: 2.8394 - accuracy: 0.4475\n",
      "Epoch 84/100\n",
      "391/391 [==============================] - 413s 1s/step - loss: 2.8107 - accuracy: 0.4489\n",
      "Epoch 85/100\n",
      "391/391 [==============================] - 414s 1s/step - loss: 2.8120 - accuracy: 0.4497\n",
      "Epoch 86/100\n",
      "391/391 [==============================] - 411s 1s/step - loss: 2.8055 - accuracy: 0.4529\n",
      "Epoch 87/100\n",
      "391/391 [==============================] - 412s 1s/step - loss: 2.8147 - accuracy: 0.4516\n",
      "Epoch 88/100\n",
      "391/391 [==============================] - 411s 1s/step - loss: 2.8012 - accuracy: 0.4511\n",
      "Epoch 89/100\n",
      "391/391 [==============================] - 411s 1s/step - loss: 2.7908 - accuracy: 0.4529\n",
      "Epoch 90/100\n",
      "391/391 [==============================] - 415s 1s/step - loss: 2.7991 - accuracy: 0.4552\n",
      "Epoch 91/100\n",
      "391/391 [==============================] - 415s 1s/step - loss: 2.7869 - accuracy: 0.4514\n",
      "Epoch 92/100\n",
      "391/391 [==============================] - 412s 1s/step - loss: 2.7791 - accuracy: 0.4550\n",
      "Epoch 93/100\n",
      "391/391 [==============================] - 412s 1s/step - loss: 2.7612 - accuracy: 0.4547\n",
      "Epoch 94/100\n",
      "391/391 [==============================] - 412s 1s/step - loss: 2.7657 - accuracy: 0.4581\n",
      "Epoch 95/100\n",
      "391/391 [==============================] - 413s 1s/step - loss: 2.7522 - accuracy: 0.4568\n",
      "Epoch 96/100\n",
      "391/391 [==============================] - 413s 1s/step - loss: 2.7405 - accuracy: 0.4574\n",
      "Epoch 97/100\n",
      "391/391 [==============================] - 412s 1s/step - loss: 2.7432 - accuracy: 0.4561\n",
      "Epoch 98/100\n",
      "391/391 [==============================] - 413s 1s/step - loss: 2.7305 - accuracy: 0.4587\n",
      "Epoch 99/100\n",
      "391/391 [==============================] - 414s 1s/step - loss: 2.7400 - accuracy: 0.4575\n",
      "Epoch 100/100\n",
      "391/391 [==============================] - 413s 1s/step - loss: 2.7240 - accuracy: 0.4603\n"
     ]
    }
   ],
   "source": [
    "# compile model with data\n",
    "model.compile(loss='categorical_crossentropy', optimizer='adam', metrics = [\"accuracy\"])\n",
    "result = model.fit(predictors, labels, \n",
    "                   batch_size = 128, \n",
    "                   epochs = 100, \n",
    "                  )"
   ]
  },
  {
   "cell_type": "code",
   "execution_count": 40,
   "metadata": {},
   "outputs": [
    {
     "data": {
      "text/plain": [
       "<Figure size 432x288 with 0 Axes>"
      ]
     },
     "execution_count": 40,
     "metadata": {},
     "output_type": "execute_result"
    },
    {
     "data": {
      "image/png": "[encoded data removed]",
      "text/plain": [
       "<Figure size 432x288 with 1 Axes>"
      ]
     },
     "metadata": {
      "needs_background": "light"
     },
     "output_type": "display_data"
    },
    {
     "data": {
      "image/png": "[encoded data removed]",
      "text/plain": [
       "<Figure size 432x288 with 1 Axes>"
      ]
     },
     "metadata": {
      "needs_background": "light"
     },
     "output_type": "display_data"
    },
    {
     "data": {
      "text/plain": [
       "<Figure size 432x288 with 0 Axes>"
      ]
     },
     "metadata": {},
     "output_type": "display_data"
    }
   ],
   "source": [
    "plt.plot(result.history['loss'], label = 'train')\n",
    "plt.xlabel('Epochs')\n",
    "plt.ylabel('Loss')\n",
    "plt.title('Training loss vs. Epochs')\n",
    "plt.legend()\n",
    "plt.figure()\n",
    "plt.plot(result.history['accuracy'], label = 'train')\n",
    "plt.xlabel('Epochs')\n",
    "plt.ylabel('Accuracy')\n",
    "plt.title('Training accuracy vs. Epochs')\n",
    "plt.legend()\n",
    "plt.figure()"
   ]
  },
  {
   "cell_type": "code",
   "execution_count": 41,
   "metadata": {},
   "outputs": [],
   "source": [
    "model.save('SpeechGenerator.h5')"
   ]
  },
  {
   "cell_type": "code",
   "execution_count": 76,
   "metadata": {},
   "outputs": [
    {
     "name": "stdout",
     "output_type": "stream",
     "text": [
      "i love you so much thinks world world world world world world ii ii ii\n"
     ]
    }
   ],
   "source": [
    "# generating non-hate comment\n",
    "seed_text = \"i love you so much\"\n",
    "text_length = 10\n",
    "  \n",
    "for _ in range(text_length):\n",
    "    token_list = tokenizer.texts_to_sequences([seed_text])[0]\n",
    "    token_list = pad_sequences([token_list], \n",
    "                               maxlen = max_text_length - 1, \n",
    "                              )\n",
    "    predicted = np.argmax(model.predict(token_list), axis=-1)\n",
    "    output_word = \"\"\n",
    "    for word, index in tokenizer.word_index.items():\n",
    "        if index == predicted:\n",
    "            output_word = word\n",
    "            break\n",
    "    seed_text += \" \" + output_word\n",
    "print(seed_text)"
   ]
  },
  {
   "cell_type": "code",
   "execution_count": 42,
   "metadata": {},
   "outputs": [],
   "source": [
    "seed_text = \"wow thanks to\"\n",
    "token_list = tokenizer.texts_to_sequences([seed_text])[0]"
   ]
  },
  {
   "cell_type": "code",
   "execution_count": 43,
   "metadata": {},
   "outputs": [
    {
     "data": {
      "text/plain": [
       "[1453, 20]"
      ]
     },
     "execution_count": 43,
     "metadata": {},
     "output_type": "execute_result"
    }
   ],
   "source": [
    "token_list"
   ]
  },
  {
   "cell_type": "code",
   "execution_count": 44,
   "metadata": {},
   "outputs": [
    {
     "data": {
      "text/plain": [
       "[[1453, 20]]"
      ]
     },
     "execution_count": 44,
     "metadata": {},
     "output_type": "execute_result"
    }
   ],
   "source": [
    "tokenizer.texts_to_sequences([seed_text])"
   ]
  },
  {
   "cell_type": "code",
   "execution_count": null,
   "metadata": {},
   "outputs": [],
   "source": []
  }
 ],
 "metadata": {
  "kernelspec": {
   "display_name": "Python 3",
   "language": "python",
   "name": "python3"
  },
  "language_info": {
   "codemirror_mode": {
    "name": "ipython",
    "version": 3
   },
   "file_extension": ".py",
   "mimetype": "text/x-python",
   "name": "python",
   "nbconvert_exporter": "python",
   "pygments_lexer": "ipython3",
   "version": "3.7.3"
  }
 },
 "nbformat": 4,
 "nbformat_minor": 2
}
